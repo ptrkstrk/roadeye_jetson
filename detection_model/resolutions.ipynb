{
 "cells": [
  {
   "cell_type": "markdown",
   "metadata": {},
   "source": [
    "# In this notebook i was analyzing what resolutions do the images have"
   ]
  },
  {
   "cell_type": "code",
   "execution_count": 1,
   "metadata": {},
   "outputs": [],
   "source": [
    "import os\n",
    "heights = []\n",
    "img_d=\"/home/pkos/Desktop/mtsd_fully_annotated/images\"\n",
    "def jpeg_res(filename):\n",
    "    \"\"\"\"This function prints the resolution of the jpeg image file passed into it\"\"\"\n",
    "\n",
    "    # open image for reading in binary mode\n",
    "    with open(filename,'rb') as img_file:\n",
    "\n",
    "       # height of image (in 2 bytes) is at 164th position\n",
    "        img_file.seek(163)\n",
    "\n",
    "       # read the 2 bytes\n",
    "        a = img_file.read(2)\n",
    "\n",
    "       # calculate height\n",
    "        height = (a[0] << 8) + a[1]\n",
    "\n",
    "       # next 2 bytes is width\n",
    "        a = img_file.read(2)\n",
    "\n",
    "       # calculate width\n",
    "        width = (a[0] << 8) + a[1]\n",
    "    heights.append((width,height))\n",
    "   #print(\"The resolution of the image is\",width,\"x\",height)\n",
    "\n",
    "directory = img_d\n",
    "for filename in os.listdir(directory):\n",
    "    if filename.endswith(\".jpg\") or filename.endswith(\".png\"):\n",
    "        jpeg_res(os.path.join(directory, filename))"
   ]
  },
  {
   "cell_type": "code",
   "execution_count": 2,
   "metadata": {},
   "outputs": [
    {
     "data": {
      "text/plain": [
       "(2560, 2688, 2816, 2944, 3072, 3200)"
      ]
     },
     "execution_count": 2,
     "metadata": {},
     "output_type": "execute_result"
    }
   ],
   "source": [
    "#print(cfg)\n",
    "tuple([int(8*x) for x in (320,336,352,368,384,400)])"
   ]
  },
  {
   "cell_type": "code",
   "execution_count": 14,
   "metadata": {},
   "outputs": [],
   "source": [
    "resolutions = heights.copy()"
   ]
  },
  {
   "cell_type": "code",
   "execution_count": 24,
   "metadata": {},
   "outputs": [
    {
     "ename": "NameError",
     "evalue": "name 'Character' is not defined",
     "output_type": "error",
     "traceback": [
      "\u001b[0;31m---------------------------------------------------------------------------\u001b[0m",
      "\u001b[0;31mNameError\u001b[0m                                 Traceback (most recent call last)",
      "\u001b[0;32m<ipython-input-24-2ca75b8734e4>\u001b[0m in \u001b[0;36m<module>\u001b[0;34m\u001b[0m\n\u001b[0;32m----> 1\u001b[0;31m \u001b[0mCharacter\u001b[0m\u001b[0;34m.\u001b[0m\u001b[0mtoString\u001b[0m\u001b[0;34m(\u001b[0m\u001b[0;34m'\\u221E'\u001b[0m\u001b[0;34m)\u001b[0m\u001b[0;34m\u001b[0m\u001b[0;34m\u001b[0m\u001b[0m\n\u001b[0m",
      "\u001b[0;31mNameError\u001b[0m: name 'Character' is not defined"
     ]
    }
   ],
   "source": [
    "Character.toString('\\u221E')"
   ]
  },
  {
   "cell_type": "code",
   "execution_count": 50,
   "metadata": {},
   "outputs": [],
   "source": [
    "def resolution_range(dim_len):\n",
    "    if dim_len<=720:\n",
    "        return \"(0,720]\"\n",
    "    elif dim_len<=1080:\n",
    "        return \"(720, 1080]\"\n",
    "    elif dim_len <=2160:\n",
    "        return \"(1080, 2160]\"\n",
    "    else:\n",
    "        return \"(2160, inf)\""
   ]
  },
  {
   "cell_type": "code",
   "execution_count": 51,
   "metadata": {},
   "outputs": [
    {
     "name": "stdout",
     "output_type": "stream",
     "text": [
      "(0,720] 2986\n",
      "(720, 1080] 4887\n",
      "(1080, 2160] 9449\n",
      "(2160, inf) 35131\n"
     ]
    }
   ],
   "source": [
    "from itertools import groupby\n",
    "heights = sorted([r[1] for r in resolutions])\n",
    "largest_h = heights[0]\n",
    "intervals=[]\n",
    "counts=[]\n",
    "for interval, cnt in groupby(heights, lambda h: resolution_range(h)):\n",
    "    count = [c for c in cnt]\n",
    "    print(interval, len(count))\n",
    "    counts.append(len(count))\n",
    "    intervals.append(interval)"
   ]
  },
  {
   "cell_type": "code",
   "execution_count": 62,
   "metadata": {},
   "outputs": [],
   "source": [
    "import matplotlib.pyplot as plt\n",
    "plt.rcParams.update({'font.size': 20})\n",
    "%matplotlib qt\n",
    "fig, ax= plt.subplots()\n",
    "plt.bar(intervals, counts)\n",
    "plt.show()"
   ]
  },
  {
   "cell_type": "code",
   "execution_count": 55,
   "metadata": {},
   "outputs": [
    {
     "name": "stdout",
     "output_type": "stream",
     "text": [
      "[(2448, 10324), (3024, 8203), (1080, 3836), (3000, 3322), (720, 2721), (2988, 2563), (2160, 2501), (3120, 2450), (3096, 1699), (3456, 1358), (1920, 1224), (1836, 1212), (2268, 1157), (1944, 892), (768, 799), (1536, 739), (2976, 486), (1936, 432), (2592, 415), (1184, 406), (2830, 266), (4000, 258), (3036, 241), (1234, 234), (1200, 227), (3936, 212), (2304, 199), (2048, 196), (1440, 192), (3016, 154), (480, 141), (960, 133), (3072, 132), (3480, 125), (1932, 117), (2250, 114), (2400, 114), (1520, 111), (1458, 99), (2736, 99), (1840, 92), (1296, 81), (870, 70), (2688, 67), (2896, 58), (1152, 57), (1968, 57), (2424, 53), (3474, 53), (1456, 52), (2760, 51), (600, 50), (2880, 49), (2820, 48), (1500, 43), (2340, 43), (2050, 42), (2240, 41), (1800, 38), (2952, 38), (2176, 36), (3888, 35), (1728, 34), (2336, 33), (3006, 33), (3752, 31), (1872, 29), (2204, 29), (2322, 26), (2256, 22), (2000, 21), (1960, 17), (3488, 17), (3840, 17), (1410, 16), (3744, 16), (360, 15), (2472, 15), (2432, 13), (3672, 13), (4096, 13), (2332, 12), (3264, 12), (864, 11), (1950, 11), (2016, 11), (2200, 11), (3104, 11), (2687, 10), (1024, 9), (2055, 9), (2150, 9), (3168, 9), (420, 8), (880, 8), (1280, 8), (1600, 8), (1746, 8), (2040, 8), (2112, 8), (2620, 8), (2752, 8), (3040, 8), (3200, 8), (350, 7), (552, 7), (1232, 7), (1350, 7), (1552, 7), (1764, 7), (1824, 7), (1952, 7), (2500, 7), (2780, 7), (5808, 7), (500, 6), (1899, 6), (2608, 6), (2816, 6), (4032, 6), (4128, 6), (4160, 6), (4480, 6), (5000, 6), (900, 5), (1289, 5), (1525, 5), (1940, 5), (2236, 5), (2570, 5), (2916, 5), (3600, 5), (3864, 5), (3984, 5), (450, 4), (1740, 4), (1752, 4), (1962, 4), (2144, 4), (2417, 4), (2602, 4), (2637, 4), (2671, 4), (2700, 4), (3088, 4), (3136, 4), (3348, 4), (6328, 4), (240, 3), (1224, 3), (1420, 3), (1482, 3), (1538, 3), (1680, 3), (1700, 3), (1830, 3), (1969, 3), (2059, 3), (2272, 3), (2316, 3), (2365, 3), (2368, 3), (2425, 3), (2475, 3), (2560, 3), (2652, 3), (2750, 3), (2848, 3), (2933, 3), (3008, 3), (3312, 3), (4008, 3), (4240, 3), (4864, 3), (5248, 3), (320, 2), (362, 2), (365, 2), (545, 2), (608, 2), (675, 2), (778, 2), (816, 2), (1067, 2), (1088, 2), (1140, 2), (1156, 2), (1191, 2), (1223, 2), (1321, 2), (1512, 2), (1650, 2), (1672, 2), (1744, 2), (1756, 2), (1757, 2), (1780, 2), (1810, 2), (1820, 2), (1825, 2), (1850, 2), (1882, 2), (1890, 2), (1900, 2), (1986, 2), (2042, 2), (2100, 2), (2136, 2), (2166, 2), (2208, 2), (2246, 2), (2289, 2), (2376, 2), (2420, 2), (2451, 2), (2464, 2), (2474, 2), (2480, 2), (2535, 2), (2748, 2), (2860, 2), (2960, 2), (3056, 2), (3252, 2), (3504, 2), (3696, 2), (4608, 2), (445, 1), (515, 1), (530, 1), (584, 1), (618, 1), (621, 1), (640, 1), (650, 1), (663, 1), (665, 1), (685, 1), (689, 1), (755, 1), (785, 1), (806, 1), (850, 1), (875, 1), (930, 1), (972, 1), (982, 1), (1040, 1), (1071, 1), (1094, 1), (1111, 1), (1121, 1), (1122, 1), (1151, 1), (1169, 1), (1180, 1), (1245, 1), (1257, 1), (1260, 1), (1265, 1), (1313, 1), (1333, 1), (1342, 1), (1388, 1), (1426, 1), (1478, 1), (1480, 1), (1508, 1), (1540, 1), (1558, 1), (1584, 1), (1589, 1), (1618, 1), (1624, 1), (1625, 1), (1660, 1), (1692, 1), (1704, 1), (1710, 1), (1737, 1), (1738, 1), (1745, 1), (1750, 1), (1770, 1), (1777, 1), (1791, 1), (1835, 1), (1855, 1), (1860, 1), (1875, 1), (1901, 1), (1905, 1), (1917, 1), (1930, 1), (1984, 1), (2026, 1), (2028, 1), (2045, 1), (2052, 1), (2080, 1), (2090, 1), (2132, 1), (2156, 1), (2178, 1), (2179, 1), (2206, 1), (2229, 1), (2292, 1), (2298, 1), (2300, 1), (2306, 1), (2373, 1), (2394, 1), (2397, 1), (2410, 1), (2444, 1), (2465, 1), (2482, 1), (2487, 1), (2495, 1), (2518, 1), (2520, 1), (2603, 1), (2610, 1), (2621, 1), (2624, 1), (2658, 1), (2672, 1), (2690, 1), (2704, 1), (2725, 1), (2728, 1), (2743, 1), (2758, 1), (2787, 1), (2796, 1), (2840, 1), (2851, 1), (2895, 1), (2919, 1), (2942, 1), (2944, 1), (2964, 1), (3015, 1), (3030, 1), (3054, 1), (3078, 1), (3184, 1), (3216, 1), (3240, 1), (3448, 1), (3468, 1), (3492, 1), (3648, 1), (3768, 1), (3791, 1), (3860, 1), (3892, 1), (3976, 1), (4140, 1), (4208, 1), (4224, 1), (4352, 1), (4446, 1), (5152, 1), (5184, 1), (5197, 1), (5204, 1), (5205, 1), (5208, 1), (5214, 1), (5222, 1), (5224, 1), (5242, 1), (5312, 1), (5646, 1), (5652, 1), (6654, 1)]\n"
     ]
    }
   ],
   "source": [
    "from collections import Counter\n",
    "heights_cnt = Counter(heights)\n",
    "print(heights_cnt.most_common())"
   ]
  },
  {
   "cell_type": "code",
   "execution_count": null,
   "metadata": {},
   "outputs": [],
   "source": []
  }
 ],
 "metadata": {
  "kernelspec": {
   "display_name": "Python 3",
   "language": "python",
   "name": "python3"
  },
  "language_info": {
   "codemirror_mode": {
    "name": "ipython",
    "version": 3
   },
   "file_extension": ".py",
   "mimetype": "text/x-python",
   "name": "python",
   "nbconvert_exporter": "python",
   "pygments_lexer": "ipython3",
   "version": "3.8.5"
  }
 },
 "nbformat": 4,
 "nbformat_minor": 4
}
